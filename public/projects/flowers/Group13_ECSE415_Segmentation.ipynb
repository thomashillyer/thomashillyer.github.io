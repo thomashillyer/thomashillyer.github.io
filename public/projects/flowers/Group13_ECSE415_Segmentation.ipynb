{
 "cells": [
  {
   "cell_type": "code",
   "execution_count": 0,
   "metadata": {
    "colab": {},
    "colab_type": "code",
    "id": "Nj0fT7WxKg2b"
   },
   "outputs": [],
   "source": [
    "import cv2\n",
    "import os\n",
    "import re\n",
    "import random\n",
    "import math\n",
    "import numpy as np\n",
    "from skimage import segmentation, color\n",
    "from matplotlib import pyplot as plt\n",
    "from sklearn.datasets import make_spd_matrix\n",
    "from scipy import stats"
   ]
  },
  {
   "cell_type": "markdown",
   "metadata": {
    "colab_type": "text",
    "id": "2dhJ5c_nKg2e"
   },
   "source": [
    "### Generic Helper Functions"
   ]
  },
  {
   "cell_type": "code",
   "execution_count": 0,
   "metadata": {
    "colab": {},
    "colab_type": "code",
    "id": "88eqg8S1Kg2f"
   },
   "outputs": [],
   "source": [
    "#Access training images in dataset (stored by individual)\n",
    "def read_imgs(directory, binary=False):\n",
    "    dataset = []\n",
    "    #Build path to dataset (outer directory should be in same directory as code)\n",
    "    dataset_path = os.path.join(os.getcwd(), 'flower_segmentation', directory)\n",
    "    #For each file in the subdirectory\n",
    "    for img_file in os.listdir(dataset_path):\n",
    "        img_num = int(img_file.split('_')[1][0:5])\n",
    "        img_path = os.path.join(dataset_path, img_file)\n",
    "        #ignore non-jpegs (all images stored as jpeg)\n",
    "        if not img_file.endswith('.jpg') and not img_file.endswith('.png'): continue\n",
    "        img_path = os.path.join(dataset_path, img_file)\n",
    "        #Read each image\n",
    "        if not binary:\n",
    "            img = cv2.imread(img_path)\n",
    "            img = cv2.cvtColor(img, cv2.COLOR_BGR2RGB)\n",
    "        else:\n",
    "            img = cv2.imread(img_path, 0)\n",
    "        #Add to dataset\n",
    "        dataset.append((img_num, img))\n",
    "    #Return Numpy array of images\n",
    "    return np.array(dataset)"
   ]
  },
  {
   "cell_type": "code",
   "execution_count": 0,
   "metadata": {
    "colab": {},
    "colab_type": "code",
    "id": "LeCp2DXbKg2i"
   },
   "outputs": [],
   "source": [
    "#Helper function to store the predicted image masks\n",
    "#Stores the images in ./flower_segmentation/{directory}\n",
    "def write_imgs(directory, images):\n",
    "    cwd = os.getcwd()\n",
    "    directory_path = os.path.join(cwd, 'flower_segmentation', directory)\n",
    "    os.mkdir(directory_path)\n",
    "    os.chdir(directory_path)\n",
    "    for (name, img) in images:\n",
    "        #maintain image file name format as provided\n",
    "        file_name = \"image_00\" if name > 100 else \"image_000\"\n",
    "        file_name = file_name + str(name) + \".png\"\n",
    "        cv2.imwrite(file_name, img)\n",
    "    os.chdir(cwd)"
   ]
  },
  {
   "cell_type": "code",
   "execution_count": 0,
   "metadata": {
    "colab": {},
    "colab_type": "code",
    "id": "V4p6aRuvKg2m"
   },
   "outputs": [],
   "source": [
    "# [TP, FP, FN, TN]\n",
    "# Regard Positive as 255 (white), Negative as 0 (black)\n",
    "def confusion_matrix(truth, predicted, dictionary=False):\n",
    "    confusion = np.zeros(4)\n",
    "    truth = truth[1].flatten()\n",
    "    predicted = predicted[1].flatten()\n",
    "    if len(truth) != len(predicted): return None\n",
    "    for pixel in zip(truth, predicted):\n",
    "        #TN\n",
    "        if pixel == (0,0):\n",
    "            confusion[3] = confusion[3] + 1\n",
    "        #FP\n",
    "        elif pixel == (0,255):\n",
    "            confusion[1] = confusion[1] + 1\n",
    "        #FN\n",
    "        elif pixel == (255,0):\n",
    "            confusion[2] = confusion[2] + 1\n",
    "        #TP\n",
    "        elif pixel == (255,255):\n",
    "            confusion[0] = confusion[0] + 1\n",
    "    #Option to return as dict not an array\n",
    "    if dictionary: confusion = {\"TP\": confusion[0], \"FP\": confusion[1], \"FN\": confusion[2], \"TN\": confusion[3]}\n",
    "    return confusion\n",
    "\n",
    "#Computes the confusion matrix for all provided truths/predictions\n",
    "#Returns single aggregate matrix\n",
    "def confusion_matrix_multi(truths, predictions, dictionary=False):\n",
    "    if len(truths) != len(predictions): return None\n",
    "    #Sort by the number associated with each image to ensure correct matching\n",
    "    truths = sorted(truths, key=lambda truth: truth[0])\n",
    "    predictions = sorted(predictions, key=lambda prediction: prediction[0])\n",
    "    #Sum individual confusion matrices together\n",
    "    confusions = np.sum([confusion_matrix(truths[i], predictions[i]) for i in range(len(truths))], axis=0)\n",
    "    #Option to return as dict not an array\n",
    "    if dictionary: confusions = {\"TP\": confusions[0], \"FP\": confusions[1], \"FN\": confusions[2], \"TN\": confusions[3]}\n",
    "    return confusions"
   ]
  },
  {
   "cell_type": "code",
   "execution_count": 0,
   "metadata": {
    "colab": {},
    "colab_type": "code",
    "id": "-bHOYL8qKg2p"
   },
   "outputs": [],
   "source": [
    "#Dice score for individual confusion matrix\n",
    "def DICE(confusion):\n",
    "    return (2*confusion[0])/(2*confusion[0] + confusion[1] + confusion[2])\n",
    "\n",
    "#Returns avg DICE score and stddev DICE score for multiple truth/prediction images\n",
    "def DICE_stats(truths, predictions):\n",
    "    truths = sorted(truths, key=lambda truth: truth[0])\n",
    "    predictions = sorted(predictions, key=lambda prediction: prediction[0])\n",
    "    confusions = [confusion_matrix(truths[i], predictions[i]) for i in range(len(truths))]\n",
    "    dice = [DICE(confusion) for confusion in confusions]\n",
    "    return(np.sum(dice)/len(dice), np.std(dice))\n",
    "\n",
    "#Returns DICE score of aggregated (single) confusion matrix\n",
    "def DICE_raw(truths, predictions):\n",
    "    confusion = confusion_matrix_multi(truths, predictions)\n",
    "    return DICE(confusion)"
   ]
  },
  {
   "cell_type": "code",
   "execution_count": 0,
   "metadata": {
    "colab": {},
    "colab_type": "code",
    "id": "_BkyC4qNKg2s"
   },
   "outputs": [],
   "source": [
    "#Helper function to determine a label's avg. distance from the center of an image\n",
    "#Ran into issues with flower being colored black & background white so I use this as a heuristic for which label is flower\n",
    "#Assume the flower labels will be near the center of the image\n",
    "def avg_dist_to_center(img, label, dictionary=False, shape=None):\n",
    "    total_dist_row = 0\n",
    "    total_dist_col = 0\n",
    "    total = 1\n",
    "    #This is used for the output of GMM labelling with is (row, col): value\n",
    "    if dictionary:\n",
    "        row_center = shape[0]//2\n",
    "        col_center = shape[1]//2\n",
    "        for ((row, col), value) in img.items():\n",
    "            if value == label:\n",
    "                total_dist_row = total_dist_row + (row_center - row) if row < row_center else total_dist_row + (row - row_center)\n",
    "                total_dist_col = total_dist_col + (col_center - col) if col < col_center else total_dist_col + (col - col_center)\n",
    "                total = total + 1\n",
    "    #This is used for the output of the cut segmentation which is 2D array (imgage shape) of labels\n",
    "    else:\n",
    "        row_center = img.shape[0]//2\n",
    "        col_center = img.shape[1]//2\n",
    "        for row in range(img.shape[0]):\n",
    "            for col in range(img.shape[1]):\n",
    "                if img[row][col] == label:\n",
    "                    total_dist_row = total_dist_row + (row_center - row) if row < row_center else total_dist_row + (row - row_center)\n",
    "                    total_dist_col = total_dist_col + (col_center - col) if col < col_center else total_dist_col + (col - col_center)\n",
    "                    total = total + 1\n",
    "    #Take avg. distance in row/col dimenstions for the label\n",
    "    #Compute distance from these averages\n",
    "    avg_dist_row = total_dist_row / total\n",
    "    avg_dist_col = total_dist_col / total\n",
    "    return math.sqrt(avg_dist_row**2 + avg_dist_col**2)"
   ]
  },
  {
   "cell_type": "markdown",
   "metadata": {
    "colab_type": "text",
    "id": "qSnPRm7rKg2u"
   },
   "source": [
    "## Preprocessing Images"
   ]
  },
  {
   "cell_type": "markdown",
   "metadata": {
    "colab_type": "text",
    "id": "fq2dBYlHKg2u"
   },
   "source": [
    "#### Import raw images & ground-truth masks"
   ]
  },
  {
   "cell_type": "markdown",
   "metadata": {
    "colab_type": "text",
    "id": "K1ANSBfuKg2v"
   },
   "source": [
    "All images are stored in pattern: (img_number, image)"
   ]
  },
  {
   "cell_type": "code",
   "execution_count": 0,
   "metadata": {
    "colab": {},
    "colab_type": "code",
    "id": "2RbotDqRKg2w"
   },
   "outputs": [],
   "source": [
    "images = read_imgs('images')\n",
    "masks = sorted(read_imgs('segmentation', binary=True), key=lambda img: img[0])"
   ]
  },
  {
   "cell_type": "markdown",
   "metadata": {
    "colab_type": "text",
    "id": "7u536NzCKg2y"
   },
   "source": [
    "#### Preprocess Images with Bilateral Filter\n",
    "Smooths the image but maintains edge-like features..."
   ]
  },
  {
   "cell_type": "code",
   "execution_count": 0,
   "metadata": {
    "colab": {},
    "colab_type": "code",
    "id": "Vbd134kyKg2z"
   },
   "outputs": [],
   "source": [
    "pp_images = [(name, cv2.bilateralFilter(img,50,50,10)) for (name, img) in images]"
   ]
  },
  {
   "cell_type": "markdown",
   "metadata": {
    "colab_type": "text",
    "id": "hWIImHvQKg21"
   },
   "source": [
    "## GMM Segmentation"
   ]
  },
  {
   "cell_type": "markdown",
   "metadata": {
    "colab_type": "text",
    "id": "YoPIw2cZKg22"
   },
   "source": [
    "GMM code was mostly recycled from group member Durham Abric's (260659760) Assignment 3 for this semester's ECSE415 class...\n",
    "\n",
    "We first tried using the Scikit-Learn GaussianMixture impelementation, but it was too slow and consumed too many resources (including memory overflow error for training on 20+ images) to be feasible for this project.  We expect it would have improved performance, but without additional compute resources it was impossible."
   ]
  },
  {
   "cell_type": "markdown",
   "metadata": {
    "colab_type": "text",
    "id": "cpCYkszsKg22"
   },
   "source": [
    "#### GMM-Specific Helper Functions/Implementation"
   ]
  },
  {
   "cell_type": "code",
   "execution_count": 0,
   "metadata": {
    "colab": {},
    "colab_type": "code",
    "id": "atpmxT39Kg23"
   },
   "outputs": [],
   "source": [
    "def calculate_EM_params(data, iters, k):\n",
    "    #Store for repeated use later\n",
    "    data_size = len(data)\n",
    "    \n",
    "    #Initalize weights, means and covariance of GMM model\n",
    "    weights = np.ones(k) / k\n",
    "    means = np.array([random.choice(data) for i in range(k)])\n",
    "    covariance = np.array([make_spd_matrix(3) for i in range(k)])\n",
    "    \n",
    "    #save parameters after each iteration\n",
    "    iter_params = []\n",
    "    \n",
    "    #Perform  iterations (EM Maximization)\n",
    "    for step in range(iters):\n",
    "\n",
    "        #Expectation (E) Step\n",
    "        likelihoods = []\n",
    "        for i in range(k):\n",
    "            tmp_likelihood = stats.multivariate_normal.pdf(x=data, mean=means[i], cov=covariance[i])\n",
    "            likelihoods.append(tmp_likelihood)\n",
    "        \n",
    "        #Maximization (M) step\n",
    "        posteriors = []\n",
    "        post_sum = np.sum([likelihoods[i] * weights[i] for i in range(k)], axis=0) + 1e-10 #Prevent division by zero\n",
    "        for i in range(k):\n",
    "            #calculate posterior probability for cluster\n",
    "            tmp_posterior = (likelihoods[i] * weights[i]) / post_sum\n",
    "            posteriors.append(tmp_posterior)\n",
    "            posterior_sum = (np.sum(posteriors[i]) + 1e-10)\n",
    "\n",
    "            #update cluster mean\n",
    "            means[i] = np.sum(posteriors[i].reshape(data_size, 1) * data, axis=0) / posterior_sum\n",
    "            #update cluster covariance\n",
    "            covariance[i] = np.dot((posteriors[i].reshape(data_size, 1) * (data - means[i])).T, (data - means[i])) / posterior_sum\n",
    "            #update cluster weights\n",
    "            weights[i] = np.mean(posteriors[i])\n",
    "        \n",
    "        iter_params.append((means.copy(), covariance.copy(), weights.copy()))\n",
    "    return iter_params"
   ]
  },
  {
   "cell_type": "code",
   "execution_count": 0,
   "metadata": {
    "colab": {},
    "colab_type": "code",
    "id": "x8vOf0GjKg26"
   },
   "outputs": [],
   "source": [
    "#Convers list of labels to dict (key: (x, y) of pixel, value: pixel cluster label)\n",
    "def label_pixels(predictions, shape):\n",
    "    pixel_labels = {}\n",
    "    for idx in range(len(predictions)):\n",
    "        row = idx // shape[1]\n",
    "        col = idx % shape[1]\n",
    "        pixel_labels[(row, col)] = predictions[idx]\n",
    "    return pixel_labels\n",
    "\n",
    "def classify_EM(img, iters, k, all=False):\n",
    "    #Compute useful data metrics\n",
    "    data = img.reshape(img.shape[0] * img.shape[1], img.shape[2])\n",
    "    #Parameters for gaussian of each cluster after each iteration\n",
    "    params = calculate_EM_params(data, iters, k)\n",
    "\n",
    "    #If all - classify each pixel for all iterations and return labels\n",
    "    #Else only classify for final parameters\n",
    "    if(all):\n",
    "        likelihoods = [[stats.multivariate_normal.pdf(x=data, mean=means[i], cov=covariance[i]) for i in range(k)] for (means, covariance, weights) in params]\n",
    "        predictions = [np.argmax(likelihood, axis=0) for likelihood in likelihoods]\n",
    "        labels = [label_pixels(pred, img.shape) for pred in predictions]\n",
    "    else:\n",
    "        likelihoods = [stats.multivariate_normal.pdf(x=data, mean=params[-1][0][i], cov=params[-1][1][i]) for i in range(k)]\n",
    "        predictions = np.argmax(likelihoods, axis=0)\n",
    "        labels = label_pixels(predictions, img.shape)\n",
    "    return labels"
   ]
  },
  {
   "cell_type": "code",
   "execution_count": 0,
   "metadata": {
    "colab": {},
    "colab_type": "code",
    "id": "8uxEu4NeKg2-"
   },
   "outputs": [],
   "source": [
    "#Build image (numpy array) with distinct colors for each cluster\n",
    "#Input: cluster dict = {Cluster #: [(i,j) of each pixel]}, img_shape = shape of original image\n",
    "#Output: Numpy array (image)\n",
    "def build_clustered_img(pixel_labels, img_shape, cluster_colors):\n",
    "    #Initialize image to black\n",
    "    output = np.zeros(img_shape, dtype=np.uint8)\n",
    "    for i in range(img_shape[0]):\n",
    "        for j in range(img_shape[1]):\n",
    "            output[i][j] = cluster_colors[pixel_labels[(i,j)]]\n",
    "    return output"
   ]
  },
  {
   "cell_type": "code",
   "execution_count": 0,
   "metadata": {
    "colab": {},
    "colab_type": "code",
    "id": "3FwIPUHNKg3A"
   },
   "outputs": [],
   "source": [
    "#Reuses the above helper functions, but implements specifically for 2 components & black/white output\n",
    "def binary_gmm_segmentation(imgs, iters):\n",
    "    output = []\n",
    "    for (name, img) in imgs:\n",
    "        labels = classify_EM(img, iters, 2)\n",
    "        #Color flower (central) white, background black\n",
    "        avg_dist_0 = avg_dist_to_center(labels, 0, dictionary=True, shape = img.shape)\n",
    "        avg_dist_1 = avg_dist_to_center(labels, 1, dictionary=True, shape = img.shape)\n",
    "        colors = {0:255, 1:0} if avg_dist_0 < avg_dist_1 else {0:0, 1:255}\n",
    "        #Call above helper function\n",
    "        output_img = build_clustered_img(labels, img.shape[0:2], colors)\n",
    "        output.append((name, output_img))\n",
    "    return output"
   ]
  },
  {
   "cell_type": "markdown",
   "metadata": {
    "colab_type": "text",
    "id": "K4ZAGB0JKg3C"
   },
   "source": [
    "#### Calculate Predictions, Cofusion Matrix & DICE"
   ]
  },
  {
   "cell_type": "code",
   "execution_count": 0,
   "metadata": {
    "colab": {},
    "colab_type": "code",
    "id": "LwqcyTmXKg3D"
   },
   "outputs": [],
   "source": [
    "predictions_gmm = sorted(binary_gmm_segmentation(pp_images, 10), key=lambda pred: pred[0])\n",
    "confusion_gmm = confusion_matrix_multi(masks, predictions_gmm, dictionary=True)\n",
    "dice_stats_gmm = DICE_stats(masks, predictions_gmm)"
   ]
  },
  {
   "cell_type": "code",
   "execution_count": 0,
   "metadata": {
    "colab": {},
    "colab_type": "code",
    "id": "9htIfGvpKg3F",
    "outputId": "2758d60e-bd6e-4653-a1f7-99d895f2dc97"
   },
   "outputs": [
    {
     "name": "stdout",
     "output_type": "stream",
     "text": [
      "Confusion Matrix (GMM): [ 6550122.  4567536.  5859391. 16445685.]\n",
      "Avg. DICE Score: 0.46872660850403186\t Std. Dev. DICE Score: 0.29509148194814666\n"
     ]
    }
   ],
   "source": [
    "print(\"Confusion Matrix (GMM): {}\".format(confusion_gmm))\n",
    "print(\"Avg. DICE Score: {}\\t Std. Dev. DICE Score: {}\".format(dice_stats_gmm[0], dice_stats_gmm[1]))"
   ]
  },
  {
   "cell_type": "markdown",
   "metadata": {
    "colab_type": "text",
    "id": "qr3HNV6fKg3J"
   },
   "source": [
    "#### Check Performance Across 5 Validation Sets"
   ]
  },
  {
   "cell_type": "code",
   "execution_count": 0,
   "metadata": {
    "colab": {},
    "colab_type": "code",
    "id": "kEkTM1DeKg3J"
   },
   "outputs": [],
   "source": [
    "validation_gmm = []\n",
    "for set_num in range(0, 5):\n",
    "    val_gmm = predictions_gmm[set_num*20:(set_num+1)*20]\n",
    "    val_dice_gmm = DICE_stats(masks[set_num*20:(set_num+1)*20], val_gmm)\n",
    "    validation_gmm.append(val_dice_gmm)"
   ]
  },
  {
   "cell_type": "code",
   "execution_count": 0,
   "metadata": {
    "colab": {},
    "colab_type": "code",
    "id": "q5WJCL0AKg3M",
    "outputId": "256d14cb-80c6-4aa3-f935-01ae828a4467"
   },
   "outputs": [
    {
     "name": "stdout",
     "output_type": "stream",
     "text": [
      "Validation Set #0: Avg. DICE Score: 0.4296743799699425\t Std. Dev. DICE Score: 0.2622713724234282\n",
      "Validation Set #1: Avg. DICE Score: 0.29264872279962856\t Std. Dev. DICE Score: 0.23524657238606705\n",
      "Validation Set #2: Avg. DICE Score: 0.4888110176165055\t Std. Dev. DICE Score: 0.27707248514273003\n",
      "Validation Set #3: Avg. DICE Score: 0.7539163216089377\t Std. Dev. DICE Score: 0.29707778206058977\n",
      "Validation Set #4: Avg. DICE Score: 0.3785826005251449\t Std. Dev. DICE Score: 0.1544419756734954\n"
     ]
    }
   ],
   "source": [
    "for val_num in range(len(validation_gmm)):\n",
    "    val_score = validation_gmm[val_num]\n",
    "    print(\"Validation Set #{}: Avg. DICE Score: {}\\t Std. Dev. DICE Score: {}\".format(val_num, val_score[0], val_score[1]))"
   ]
  },
  {
   "cell_type": "markdown",
   "metadata": {
    "colab_type": "text",
    "id": "84JlUJPfKg3P"
   },
   "source": [
    "#### Store Predicted Masks Using GMM"
   ]
  },
  {
   "cell_type": "code",
   "execution_count": 0,
   "metadata": {
    "colab": {},
    "colab_type": "code",
    "id": "2XTo5L9KKg3Q"
   },
   "outputs": [],
   "source": [
    "write_imgs('gmm_segmentation', predictions_gmm)"
   ]
  },
  {
   "cell_type": "markdown",
   "metadata": {
    "colab_type": "text",
    "id": "MAx2TfEGKg3R"
   },
   "source": [
    "## Normalized Graph-Cut Segmentation"
   ]
  },
  {
   "cell_type": "markdown",
   "metadata": {
    "colab_type": "text",
    "id": "IzyvSEbzKg3S"
   },
   "source": [
    "#### Normalized-Graph Cut Implementation\n",
    "\n",
    "Utilizes the Scikit-Image implementation. Again, colors central label white (flower) and background black.  Returns list of (img_num, prediction)."
   ]
  },
  {
   "cell_type": "markdown",
   "metadata": {
    "colab_type": "text",
    "id": "S_bQ951gDqd7"
   },
   "source": []
  },
  {
   "cell_type": "code",
   "execution_count": 0,
   "metadata": {
    "colab": {},
    "colab_type": "code",
    "id": "DDr-sflqKg3S"
   },
   "outputs": [],
   "source": [
    "def binary_cut_segmentation(imgs, iters, compact):\n",
    "    output = []\n",
    "    for (name, img) in imgs:\n",
    "        tmp_labels = segmentation.slic(img, compactness=compact, n_segments=2, convert2lab=True, enforce_connectivity=True, max_iter=iters)\n",
    "        avg_dist_0 = avg_dist_to_center(tmp_labels, 0)\n",
    "        avg_dist_1 = avg_dist_to_center(tmp_labels, 1)\n",
    "        color_map = ((0, 0, 0), (255,255,255)) if avg_dist_0 > avg_dist_1 else ((255,255,255), (0, 0, 0))\n",
    "        tmp_segmentation = color.label2rgb(tmp_labels, colors=color_map)\n",
    "        tmp_segmentation = cv2.cvtColor(tmp_segmentation.astype('uint8'), cv2.COLOR_BGR2GRAY)\n",
    "        output.append((name, tmp_segmentation))\n",
    "    return output"
   ]
  },
  {
   "cell_type": "markdown",
   "metadata": {
    "colab_type": "text",
    "id": "bB7njHrXKg3U"
   },
   "source": [
    "#### Calculate Predictions, Cofusion Matrix & DICE"
   ]
  },
  {
   "cell_type": "code",
   "execution_count": 0,
   "metadata": {
    "colab": {},
    "colab_type": "code",
    "id": "fab4MVUxKg3V"
   },
   "outputs": [],
   "source": [
    "predictions_cut = sorted(binary_cut_segmentation(pp_images, 10, 1), key=lambda pred: pred[0])\n",
    "confusion_cut = confusion_matrix_multi(masks, predictions_cut, dictionary=True)\n",
    "dice_stats_cut = DICE_stats(masks, predictions_cut)"
   ]
  },
  {
   "cell_type": "code",
   "execution_count": 0,
   "metadata": {
    "colab": {},
    "colab_type": "code",
    "id": "sv1yJjjnKg3X",
    "outputId": "d1f990c0-8500-47f6-d499-4aa55becaa65"
   },
   "outputs": [
    {
     "name": "stdout",
     "output_type": "stream",
     "text": [
      "Confusion Matrix (Cut): {'TP': 7589831.0, 'FP': 2312724.0, 'FN': 4819682.0, 'TN': 18700497.0}\n",
      "Avg. DICE Score: 0.5156134653365576\t Std. Dev. DICE Score: 0.42322102157752367\n"
     ]
    }
   ],
   "source": [
    "print(\"Confusion Matrix (Cut): {}\".format(confusion_cut))\n",
    "print(\"Avg. DICE Score: {}\\t Std. Dev. DICE Score: {}\".format(dice_stats_cut[0], dice_stats_cut[1]))"
   ]
  },
  {
   "cell_type": "markdown",
   "metadata": {
    "colab_type": "text",
    "id": "Y9gu_HxgKg3Z"
   },
   "source": [
    "#### Check Performance Across 5 Validation Sets"
   ]
  },
  {
   "cell_type": "code",
   "execution_count": 0,
   "metadata": {
    "colab": {},
    "colab_type": "code",
    "id": "IXtPERCfKg3a"
   },
   "outputs": [],
   "source": [
    "validation_cut = []\n",
    "for set_num in range(0, 5):\n",
    "    val_cut = predictions_cut[set_num*20:(set_num+1)*20]\n",
    "    val_dice_cut = DICE_stats(masks[set_num*20:(set_num+1)*20], val_cut)\n",
    "    validation_cut.append(val_dice_cut)"
   ]
  },
  {
   "cell_type": "code",
   "execution_count": 0,
   "metadata": {
    "colab": {},
    "colab_type": "code",
    "id": "uR_q-RkGKg3d",
    "outputId": "7cdfcd73-a9c8-4ffb-e505-8e515e6143cc"
   },
   "outputs": [
    {
     "name": "stdout",
     "output_type": "stream",
     "text": [
      "Validation Set #0: Avg. DICE Score: 0.4055996399324707\t Std. Dev. DICE Score: 0.41473224016260446\n",
      "Validation Set #1: Avg. DICE Score: 0.4723786405079842\t Std. Dev. DICE Score: 0.4138836503975406\n",
      "Validation Set #2: Avg. DICE Score: 0.491684388922151\t Std. Dev. DICE Score: 0.39266630342027287\n",
      "Validation Set #3: Avg. DICE Score: 0.6938693818229743\t Std. Dev. DICE Score: 0.40780273595249983\n",
      "Validation Set #4: Avg. DICE Score: 0.5145352754972071\t Std. Dev. DICE Score: 0.43065825700322424\n"
     ]
    }
   ],
   "source": [
    "for val_num in range(len(validation_cut)):\n",
    "    val_score = validation_cut[val_num]\n",
    "    print(\"Validation Set #{}: Avg. DICE Score: {}\\t Std. Dev. DICE Score: {}\".format(val_num, val_score[0], val_score[1]))"
   ]
  },
  {
   "cell_type": "markdown",
   "metadata": {
    "colab_type": "text",
    "id": "FgyV6jUQKg3g"
   },
   "source": [
    "#### Store Predicted Masks Using GMM"
   ]
  },
  {
   "cell_type": "code",
   "execution_count": 0,
   "metadata": {
    "colab": {},
    "colab_type": "code",
    "id": "_dWF67QkKg3g"
   },
   "outputs": [],
   "source": [
    "write_imgs('cut_segmentation', predictions_cut)"
   ]
  }
 ],
 "metadata": {
  "colab": {
   "collapsed_sections": [],
   "name": "415_project_segmentation.ipynb",
   "provenance": []
  },
  "kernelspec": {
   "display_name": "Python 3",
   "language": "python",
   "name": "python3"
  },
  "language_info": {
   "codemirror_mode": {
    "name": "ipython",
    "version": 3
   },
   "file_extension": ".py",
   "mimetype": "text/x-python",
   "name": "python",
   "nbconvert_exporter": "python",
   "pygments_lexer": "ipython3",
   "version": "3.6.8"
  }
 },
 "nbformat": 4,
 "nbformat_minor": 1
}
